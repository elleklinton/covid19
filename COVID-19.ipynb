{
 "cells": [
  {
   "cell_type": "markdown",
   "metadata": {},
   "source": [
    "# Modelling The Spread of The Coronavirus in the United States <a class=\"anchor\" id=\"top\"></a>"
   ]
  },
  {
   "cell_type": "markdown",
   "metadata": {},
   "source": [
    "**By Ellek Linton**\n",
    "\n",
    "*B.A. in Data Science (2020) from the University of California, Berkeley*\n",
    "\n",
    "*Published: March 28, 2020 (6pm MST)*\n",
    "\n",
    "*Last Updated: March 29, 2020 (6pm MST)*"
   ]
  },
  {
   "cell_type": "markdown",
   "metadata": {},
   "source": [
    "This is my attempt to understand the spread of the coronavirus in the only way I know how: with data. I am modelling the total number of cases and deaths in the United States of COVID-19. This analysis references open-source COVID-19 data from [John Hopkins University](https://github.com/CSSEGISandData/COVID-19) and world population data from the [United Nations](https://population.un.org/wpp/Download/Standard/Population/). This analysis will be updated daily at 6pm MST (GMT 00:00) daily.\n",
    "\n",
    "I will attempt to model the spread of the novel Coronavirus (COVID-19) in the United States and around the world. Except for the imported libraries (`numpy`, `pandas`, `matplotlib`), I built all of the code used in this analysis and model 100% from scratch, inlcuding the regression model.\n",
    "\n",
    "This analysis is open source, and all of the code used is available on [Github](https://github.com/elleklinton/covid19). This analysis is also available as a webpage: https://elleklinton.com/covid19"
   ]
  },
  {
   "cell_type": "markdown",
   "metadata": {},
   "source": [
    "### My Predictions For Total Number of Confirmed COVID-19 Cases (USA):"
   ]
  },
  {
   "cell_type": "markdown",
   "metadata": {},
   "source": [
    "| Date | Total Cases (Prediction) | Total Cases (Actual) | Error (%) |\n",
    "| --- | --- | --- | --- |\n",
    "|March 27, 2020|100,157|101,657|- 1.476%|\n",
    "|[March 28, 2020](https://elleklinton.com/covid19/2020-03-28.html)|123,451|121,478|+ 1.624%|\n",
    "|March 29, 2020|143,471|-|-|\n",
    "|March 30, 2020|167,024|-|-|\n",
    "|March 31, 2020|193,068|-|-|\n",
    "|April 01, 2020|221,305|-|-|\n",
    "|April 02, 2020|250,991|-|-|"
   ]
  },
  {
   "cell_type": "markdown",
   "metadata": {},
   "source": [
    "# Table of Contents:\n",
    "### 1. [Import Libraries](#1)\n",
    "\n",
    "### 2. [Load Data](#2)\n",
    "- [Get Coronavirus Data](#2a)\n",
    "- [Get World Population Data](#2b)\n",
    "\n",
    "### 3. [Process and Clean Data](#3)\n",
    "- [Standardize Coronavirus Data](#3a)\n",
    "- [Standardize World Population Data](#3b)\n",
    "- [Match World Population Data With Coronavirus Data](#3c)\n",
    "\n",
    "### 4. [Prepare Data For Modeling](#4)\n",
    "- [Designing Data](#4a)\n",
    "\n",
    "### 5. [Calibrating Model To Predict Number of Cases In The United States](#5)\n",
    "- [Generating Training/Validation Data](#5a)\n",
    "- [Threshold Tuning](#5b)\n",
    "- [Window Size Tuning](#5c)\n",
    "- [Lambda Tuning](#5d)\n",
    "\n",
    "### 6. [Calibrating Model To Predict Number of Deaths In The United States](#6)\n",
    "- [Threshold Tuning](#6a)\n",
    "- [Window Size Tuning](#6b)\n",
    "- [Lambda Tuning](#6c)\n",
    "\n",
    "### 7. [Predicting Total Number of Cases in The United States](#7)\n",
    "\n",
    "### 8. [Predicting Total Number of Deaths in The United States](#8)\n",
    "\n",
    "### 9. [Visualizations and Further Analysis](#9)\n",
    "- [Plotting Fraction of Population Infected](#9a)\n",
    "- [Plotting Relative Growth Curves](#9b)"
   ]
  },
  {
   "cell_type": "markdown",
   "metadata": {},
   "source": [
    "# 1: Import Libraries <a class=\"anchor\" id=\"1\"></a>\n",
    "[Return to top](#top)"
   ]
  },
  {
   "cell_type": "markdown",
   "metadata": {},
   "source": [
    "For the core model, I will be using a ridge linear regression model that I built from scratch."
   ]
  },
  {
   "cell_type": "code",
   "execution_count": 1,
   "metadata": {},
   "outputs": [],
   "source": [
    "from datetime import datetime, timedelta\n",
    "from dateutil import tz\n",
    "import matplotlib.pyplot as plt\n",
    "import numpy as np\n",
    "import pandas as pd\n",
    "from pylab import rcParams\n",
    "from Regression import RidgeRegression\n",
    "import warnings\n",
    "\n",
    "rcParams['figure.figsize'] = 9, 5"
   ]
  },
  {
   "cell_type": "markdown",
   "metadata": {},
   "source": [
    "# 2: Load Data <a class=\"anchor\" id=\"2\"></a>\n",
    "[Return to top](#top)"
   ]
  },
  {
   "cell_type": "markdown",
   "metadata": {},
   "source": [
    "I am using open-source data from [John Hopkins University](https://github.com/CSSEGISandData/COVID-19) to get the daily number of COVID-19 confirmed cases and number of deaths. I am using [United Nations](https://population.un.org/wpp/Download/Standard/Population/) data to get world population data.\n",
    "\n",
    "The Coronavirus data is updated daily at 6pm MST (GMT 00:00) daily. I am attempting to place a lower-bound on the number of reported coronavirus cases in the United States."
   ]
  },
  {
   "cell_type": "markdown",
   "metadata": {},
   "source": [
    "### Get Coronavirus Data <a class=\"anchor\" id=\"2a\"></a>"
   ]
  },
  {
   "cell_type": "code",
   "execution_count": 2,
   "metadata": {},
   "outputs": [],
   "source": [
    "deaths_url = \"https://raw.githubusercontent.com/CSSEGISandData/COVID-19/master/csse_covid_19_data/csse_covid_19_time_series/time_series_covid19_deaths_global.csv\"\n",
    "confirmed_cases_url = \"https://raw.githubusercontent.com/CSSEGISandData/COVID-19/master/csse_covid_19_data/csse_covid_19_time_series/time_series_covid19_confirmed_global.csv\""
   ]
  },
  {
   "cell_type": "code",
   "execution_count": 3,
   "metadata": {},
   "outputs": [],
   "source": [
    "confirmed_cases = pd.read_csv(confirmed_cases_url)\n",
    "deaths = pd.read_csv(deaths_url)"
   ]
  },
  {
   "cell_type": "markdown",
   "metadata": {},
   "source": [
    "Let's take a look at what the `confirmed_cases` actually looks like:"
   ]
  },
  {
   "cell_type": "code",
   "execution_count": 4,
   "metadata": {},
   "outputs": [
    {
     "data": {
      "text/html": [
       "<div>\n",
       "<style scoped>\n",
       "    .dataframe tbody tr th:only-of-type {\n",
       "        vertical-align: middle;\n",
       "    }\n",
       "\n",
       "    .dataframe tbody tr th {\n",
       "        vertical-align: top;\n",
       "    }\n",
       "\n",
       "    .dataframe thead th {\n",
       "        text-align: right;\n",
       "    }\n",
       "</style>\n",
       "<table border=\"1\" class=\"dataframe\">\n",
       "  <thead>\n",
       "    <tr style=\"text-align: right;\">\n",
       "      <th></th>\n",
       "      <th>Province/State</th>\n",
       "      <th>Country/Region</th>\n",
       "      <th>Lat</th>\n",
       "      <th>Long</th>\n",
       "      <th>1/22/20</th>\n",
       "      <th>1/23/20</th>\n",
       "      <th>1/24/20</th>\n",
       "      <th>1/25/20</th>\n",
       "      <th>1/26/20</th>\n",
       "      <th>1/27/20</th>\n",
       "      <th>...</th>\n",
       "      <th>3/19/20</th>\n",
       "      <th>3/20/20</th>\n",
       "      <th>3/21/20</th>\n",
       "      <th>3/22/20</th>\n",
       "      <th>3/23/20</th>\n",
       "      <th>3/24/20</th>\n",
       "      <th>3/25/20</th>\n",
       "      <th>3/26/20</th>\n",
       "      <th>3/27/20</th>\n",
       "      <th>3/28/20</th>\n",
       "    </tr>\n",
       "  </thead>\n",
       "  <tbody>\n",
       "    <tr>\n",
       "      <th>0</th>\n",
       "      <td>NaN</td>\n",
       "      <td>Afghanistan</td>\n",
       "      <td>33.0000</td>\n",
       "      <td>65.0000</td>\n",
       "      <td>0</td>\n",
       "      <td>0</td>\n",
       "      <td>0</td>\n",
       "      <td>0</td>\n",
       "      <td>0</td>\n",
       "      <td>0</td>\n",
       "      <td>...</td>\n",
       "      <td>22</td>\n",
       "      <td>24</td>\n",
       "      <td>24</td>\n",
       "      <td>40</td>\n",
       "      <td>40</td>\n",
       "      <td>74</td>\n",
       "      <td>84</td>\n",
       "      <td>94</td>\n",
       "      <td>110</td>\n",
       "      <td>110</td>\n",
       "    </tr>\n",
       "    <tr>\n",
       "      <th>1</th>\n",
       "      <td>NaN</td>\n",
       "      <td>Albania</td>\n",
       "      <td>41.1533</td>\n",
       "      <td>20.1683</td>\n",
       "      <td>0</td>\n",
       "      <td>0</td>\n",
       "      <td>0</td>\n",
       "      <td>0</td>\n",
       "      <td>0</td>\n",
       "      <td>0</td>\n",
       "      <td>...</td>\n",
       "      <td>64</td>\n",
       "      <td>70</td>\n",
       "      <td>76</td>\n",
       "      <td>89</td>\n",
       "      <td>104</td>\n",
       "      <td>123</td>\n",
       "      <td>146</td>\n",
       "      <td>174</td>\n",
       "      <td>186</td>\n",
       "      <td>197</td>\n",
       "    </tr>\n",
       "    <tr>\n",
       "      <th>2</th>\n",
       "      <td>NaN</td>\n",
       "      <td>Algeria</td>\n",
       "      <td>28.0339</td>\n",
       "      <td>1.6596</td>\n",
       "      <td>0</td>\n",
       "      <td>0</td>\n",
       "      <td>0</td>\n",
       "      <td>0</td>\n",
       "      <td>0</td>\n",
       "      <td>0</td>\n",
       "      <td>...</td>\n",
       "      <td>87</td>\n",
       "      <td>90</td>\n",
       "      <td>139</td>\n",
       "      <td>201</td>\n",
       "      <td>230</td>\n",
       "      <td>264</td>\n",
       "      <td>302</td>\n",
       "      <td>367</td>\n",
       "      <td>409</td>\n",
       "      <td>454</td>\n",
       "    </tr>\n",
       "    <tr>\n",
       "      <th>3</th>\n",
       "      <td>NaN</td>\n",
       "      <td>Andorra</td>\n",
       "      <td>42.5063</td>\n",
       "      <td>1.5218</td>\n",
       "      <td>0</td>\n",
       "      <td>0</td>\n",
       "      <td>0</td>\n",
       "      <td>0</td>\n",
       "      <td>0</td>\n",
       "      <td>0</td>\n",
       "      <td>...</td>\n",
       "      <td>53</td>\n",
       "      <td>75</td>\n",
       "      <td>88</td>\n",
       "      <td>113</td>\n",
       "      <td>133</td>\n",
       "      <td>164</td>\n",
       "      <td>188</td>\n",
       "      <td>224</td>\n",
       "      <td>267</td>\n",
       "      <td>308</td>\n",
       "    </tr>\n",
       "    <tr>\n",
       "      <th>4</th>\n",
       "      <td>NaN</td>\n",
       "      <td>Angola</td>\n",
       "      <td>-11.2027</td>\n",
       "      <td>17.8739</td>\n",
       "      <td>0</td>\n",
       "      <td>0</td>\n",
       "      <td>0</td>\n",
       "      <td>0</td>\n",
       "      <td>0</td>\n",
       "      <td>0</td>\n",
       "      <td>...</td>\n",
       "      <td>0</td>\n",
       "      <td>1</td>\n",
       "      <td>2</td>\n",
       "      <td>2</td>\n",
       "      <td>3</td>\n",
       "      <td>3</td>\n",
       "      <td>3</td>\n",
       "      <td>4</td>\n",
       "      <td>4</td>\n",
       "      <td>5</td>\n",
       "    </tr>\n",
       "  </tbody>\n",
       "</table>\n",
       "<p>5 rows × 71 columns</p>\n",
       "</div>"
      ],
      "text/plain": [
       "  Province/State Country/Region      Lat     Long  1/22/20  1/23/20  1/24/20  \\\n",
       "0            NaN    Afghanistan  33.0000  65.0000        0        0        0   \n",
       "1            NaN        Albania  41.1533  20.1683        0        0        0   \n",
       "2            NaN        Algeria  28.0339   1.6596        0        0        0   \n",
       "3            NaN        Andorra  42.5063   1.5218        0        0        0   \n",
       "4            NaN         Angola -11.2027  17.8739        0        0        0   \n",
       "\n",
       "   1/25/20  1/26/20  1/27/20  ...  3/19/20  3/20/20  3/21/20  3/22/20  \\\n",
       "0        0        0        0  ...       22       24       24       40   \n",
       "1        0        0        0  ...       64       70       76       89   \n",
       "2        0        0        0  ...       87       90      139      201   \n",
       "3        0        0        0  ...       53       75       88      113   \n",
       "4        0        0        0  ...        0        1        2        2   \n",
       "\n",
       "   3/23/20  3/24/20  3/25/20  3/26/20  3/27/20  3/28/20  \n",
       "0       40       74       84       94      110      110  \n",
       "1      104      123      146      174      186      197  \n",
       "2      230      264      302      367      409      454  \n",
       "3      133      164      188      224      267      308  \n",
       "4        3        3        3        4        4        5  \n",
       "\n",
       "[5 rows x 71 columns]"
      ]
     },
     "execution_count": 4,
     "metadata": {},
     "output_type": "execute_result"
    }
   ],
   "source": [
    "confirmed_cases.head()"
   ]
  },
  {
   "cell_type": "markdown",
   "metadata": {},
   "source": [
    "And this is the `deaths` data:"
   ]
  },
  {
   "cell_type": "code",
   "execution_count": 5,
   "metadata": {},
   "outputs": [
    {
     "data": {
      "text/html": [
       "<div>\n",
       "<style scoped>\n",
       "    .dataframe tbody tr th:only-of-type {\n",
       "        vertical-align: middle;\n",
       "    }\n",
       "\n",
       "    .dataframe tbody tr th {\n",
       "        vertical-align: top;\n",
       "    }\n",
       "\n",
       "    .dataframe thead th {\n",
       "        text-align: right;\n",
       "    }\n",
       "</style>\n",
       "<table border=\"1\" class=\"dataframe\">\n",
       "  <thead>\n",
       "    <tr style=\"text-align: right;\">\n",
       "      <th></th>\n",
       "      <th>Province/State</th>\n",
       "      <th>Country/Region</th>\n",
       "      <th>Lat</th>\n",
       "      <th>Long</th>\n",
       "      <th>1/22/20</th>\n",
       "      <th>1/23/20</th>\n",
       "      <th>1/24/20</th>\n",
       "      <th>1/25/20</th>\n",
       "      <th>1/26/20</th>\n",
       "      <th>1/27/20</th>\n",
       "      <th>...</th>\n",
       "      <th>3/19/20</th>\n",
       "      <th>3/20/20</th>\n",
       "      <th>3/21/20</th>\n",
       "      <th>3/22/20</th>\n",
       "      <th>3/23/20</th>\n",
       "      <th>3/24/20</th>\n",
       "      <th>3/25/20</th>\n",
       "      <th>3/26/20</th>\n",
       "      <th>3/27/20</th>\n",
       "      <th>3/28/20</th>\n",
       "    </tr>\n",
       "  </thead>\n",
       "  <tbody>\n",
       "    <tr>\n",
       "      <th>0</th>\n",
       "      <td>NaN</td>\n",
       "      <td>Afghanistan</td>\n",
       "      <td>33.0000</td>\n",
       "      <td>65.0000</td>\n",
       "      <td>0</td>\n",
       "      <td>0</td>\n",
       "      <td>0</td>\n",
       "      <td>0</td>\n",
       "      <td>0</td>\n",
       "      <td>0</td>\n",
       "      <td>...</td>\n",
       "      <td>0</td>\n",
       "      <td>0</td>\n",
       "      <td>0</td>\n",
       "      <td>1</td>\n",
       "      <td>1</td>\n",
       "      <td>1</td>\n",
       "      <td>2</td>\n",
       "      <td>4</td>\n",
       "      <td>4</td>\n",
       "      <td>4</td>\n",
       "    </tr>\n",
       "    <tr>\n",
       "      <th>1</th>\n",
       "      <td>NaN</td>\n",
       "      <td>Albania</td>\n",
       "      <td>41.1533</td>\n",
       "      <td>20.1683</td>\n",
       "      <td>0</td>\n",
       "      <td>0</td>\n",
       "      <td>0</td>\n",
       "      <td>0</td>\n",
       "      <td>0</td>\n",
       "      <td>0</td>\n",
       "      <td>...</td>\n",
       "      <td>2</td>\n",
       "      <td>2</td>\n",
       "      <td>2</td>\n",
       "      <td>2</td>\n",
       "      <td>4</td>\n",
       "      <td>5</td>\n",
       "      <td>5</td>\n",
       "      <td>6</td>\n",
       "      <td>8</td>\n",
       "      <td>10</td>\n",
       "    </tr>\n",
       "    <tr>\n",
       "      <th>2</th>\n",
       "      <td>NaN</td>\n",
       "      <td>Algeria</td>\n",
       "      <td>28.0339</td>\n",
       "      <td>1.6596</td>\n",
       "      <td>0</td>\n",
       "      <td>0</td>\n",
       "      <td>0</td>\n",
       "      <td>0</td>\n",
       "      <td>0</td>\n",
       "      <td>0</td>\n",
       "      <td>...</td>\n",
       "      <td>9</td>\n",
       "      <td>11</td>\n",
       "      <td>15</td>\n",
       "      <td>17</td>\n",
       "      <td>17</td>\n",
       "      <td>19</td>\n",
       "      <td>21</td>\n",
       "      <td>25</td>\n",
       "      <td>26</td>\n",
       "      <td>29</td>\n",
       "    </tr>\n",
       "    <tr>\n",
       "      <th>3</th>\n",
       "      <td>NaN</td>\n",
       "      <td>Andorra</td>\n",
       "      <td>42.5063</td>\n",
       "      <td>1.5218</td>\n",
       "      <td>0</td>\n",
       "      <td>0</td>\n",
       "      <td>0</td>\n",
       "      <td>0</td>\n",
       "      <td>0</td>\n",
       "      <td>0</td>\n",
       "      <td>...</td>\n",
       "      <td>0</td>\n",
       "      <td>0</td>\n",
       "      <td>0</td>\n",
       "      <td>1</td>\n",
       "      <td>1</td>\n",
       "      <td>1</td>\n",
       "      <td>1</td>\n",
       "      <td>3</td>\n",
       "      <td>3</td>\n",
       "      <td>3</td>\n",
       "    </tr>\n",
       "    <tr>\n",
       "      <th>4</th>\n",
       "      <td>NaN</td>\n",
       "      <td>Angola</td>\n",
       "      <td>-11.2027</td>\n",
       "      <td>17.8739</td>\n",
       "      <td>0</td>\n",
       "      <td>0</td>\n",
       "      <td>0</td>\n",
       "      <td>0</td>\n",
       "      <td>0</td>\n",
       "      <td>0</td>\n",
       "      <td>...</td>\n",
       "      <td>0</td>\n",
       "      <td>0</td>\n",
       "      <td>0</td>\n",
       "      <td>0</td>\n",
       "      <td>0</td>\n",
       "      <td>0</td>\n",
       "      <td>0</td>\n",
       "      <td>0</td>\n",
       "      <td>0</td>\n",
       "      <td>0</td>\n",
       "    </tr>\n",
       "  </tbody>\n",
       "</table>\n",
       "<p>5 rows × 71 columns</p>\n",
       "</div>"
      ],
      "text/plain": [
       "  Province/State Country/Region      Lat     Long  1/22/20  1/23/20  1/24/20  \\\n",
       "0            NaN    Afghanistan  33.0000  65.0000        0        0        0   \n",
       "1            NaN        Albania  41.1533  20.1683        0        0        0   \n",
       "2            NaN        Algeria  28.0339   1.6596        0        0        0   \n",
       "3            NaN        Andorra  42.5063   1.5218        0        0        0   \n",
       "4            NaN         Angola -11.2027  17.8739        0        0        0   \n",
       "\n",
       "   1/25/20  1/26/20  1/27/20  ...  3/19/20  3/20/20  3/21/20  3/22/20  \\\n",
       "0        0        0        0  ...        0        0        0        1   \n",
       "1        0        0        0  ...        2        2        2        2   \n",
       "2        0        0        0  ...        9       11       15       17   \n",
       "3        0        0        0  ...        0        0        0        1   \n",
       "4        0        0        0  ...        0        0        0        0   \n",
       "\n",
       "   3/23/20  3/24/20  3/25/20  3/26/20  3/27/20  3/28/20  \n",
       "0        1        1        2        4        4        4  \n",
       "1        4        5        5        6        8       10  \n",
       "2       17       19       21       25       26       29  \n",
       "3        1        1        1        3        3        3  \n",
       "4        0        0        0        0        0        0  \n",
       "\n",
       "[5 rows x 71 columns]"
      ]
     },
     "execution_count": 5,
     "metadata": {},
     "output_type": "execute_result"
    }
   ],
   "source": [
    "deaths.head()"
   ]
  },
  {
   "cell_type": "markdown",
   "metadata": {},
   "source": [
    "### Get World Population Data <a class=\"anchor\" id=\"2b\"></a>"
   ]
  },
  {
   "cell_type": "code",
   "execution_count": 6,
   "metadata": {},
   "outputs": [],
   "source": [
    "world_pop = pd.read_csv(\"World Population.csv\")"
   ]
  },
  {
   "cell_type": "markdown",
   "metadata": {},
   "source": [
    "The `world_pop` data is a bit messy, so I am going to clean it up in [step 3](#3b). This is what the `world_pop` data looks like:"
   ]
  },
  {
   "cell_type": "code",
   "execution_count": 7,
   "metadata": {},
   "outputs": [
    {
     "data": {
      "text/html": [
       "<div>\n",
       "<style scoped>\n",
       "    .dataframe tbody tr th:only-of-type {\n",
       "        vertical-align: middle;\n",
       "    }\n",
       "\n",
       "    .dataframe tbody tr th {\n",
       "        vertical-align: top;\n",
       "    }\n",
       "\n",
       "    .dataframe thead th {\n",
       "        text-align: right;\n",
       "    }\n",
       "</style>\n",
       "<table border=\"1\" class=\"dataframe\">\n",
       "  <thead>\n",
       "    <tr style=\"text-align: right;\">\n",
       "      <th></th>\n",
       "      <th>Region, subregion, country or area *</th>\n",
       "      <th>Notes</th>\n",
       "      <th>Country code</th>\n",
       "      <th>Type</th>\n",
       "      <th>Parent code</th>\n",
       "      <th>1950</th>\n",
       "      <th>1951</th>\n",
       "      <th>1952</th>\n",
       "      <th>1953</th>\n",
       "      <th>1954</th>\n",
       "      <th>...</th>\n",
       "      <th>2011</th>\n",
       "      <th>2012</th>\n",
       "      <th>2013</th>\n",
       "      <th>2014</th>\n",
       "      <th>2015</th>\n",
       "      <th>2016</th>\n",
       "      <th>2017</th>\n",
       "      <th>2018</th>\n",
       "      <th>2019</th>\n",
       "      <th>2020</th>\n",
       "    </tr>\n",
       "  </thead>\n",
       "  <tbody>\n",
       "    <tr>\n",
       "      <th>0</th>\n",
       "      <td>WORLD</td>\n",
       "      <td>NaN</td>\n",
       "      <td>900</td>\n",
       "      <td>World</td>\n",
       "      <td>0</td>\n",
       "      <td>2536431.02</td>\n",
       "      <td>2584034.23</td>\n",
       "      <td>2630861.69</td>\n",
       "      <td>2677609.06</td>\n",
       "      <td>2724846.75</td>\n",
       "      <td>...</td>\n",
       "      <td>7041194.17</td>\n",
       "      <td>7125827.96</td>\n",
       "      <td>7210582.04</td>\n",
       "      <td>7295290.76</td>\n",
       "      <td>7379796.97</td>\n",
       "      <td>7464021.93</td>\n",
       "      <td>7547858.90</td>\n",
       "      <td>7631091.11</td>\n",
       "      <td>7713468.21</td>\n",
       "      <td>7794798.73</td>\n",
       "    </tr>\n",
       "    <tr>\n",
       "      <th>1</th>\n",
       "      <td>More developed regions</td>\n",
       "      <td>b</td>\n",
       "      <td>901</td>\n",
       "      <td>Development Group</td>\n",
       "      <td>1803</td>\n",
       "      <td>814818.91</td>\n",
       "      <td>824003.51</td>\n",
       "      <td>833720.17</td>\n",
       "      <td>843787.54</td>\n",
       "      <td>854060.46</td>\n",
       "      <td>...</td>\n",
       "      <td>1239557.45</td>\n",
       "      <td>1244114.53</td>\n",
       "      <td>1248453.53</td>\n",
       "      <td>1252615.11</td>\n",
       "      <td>1256622.19</td>\n",
       "      <td>1260478.67</td>\n",
       "      <td>1264146.38</td>\n",
       "      <td>1267558.90</td>\n",
       "      <td>1270630.32</td>\n",
       "      <td>1273304.26</td>\n",
       "    </tr>\n",
       "    <tr>\n",
       "      <th>2</th>\n",
       "      <td>Less developed regions</td>\n",
       "      <td>c</td>\n",
       "      <td>902</td>\n",
       "      <td>Development Group</td>\n",
       "      <td>1803</td>\n",
       "      <td>1721612.11</td>\n",
       "      <td>1760030.72</td>\n",
       "      <td>1797141.52</td>\n",
       "      <td>1833821.52</td>\n",
       "      <td>1870786.30</td>\n",
       "      <td>...</td>\n",
       "      <td>5801636.72</td>\n",
       "      <td>5881713.43</td>\n",
       "      <td>5962128.51</td>\n",
       "      <td>6042675.65</td>\n",
       "      <td>6123174.78</td>\n",
       "      <td>6203543.27</td>\n",
       "      <td>6283712.52</td>\n",
       "      <td>6363532.21</td>\n",
       "      <td>6442837.89</td>\n",
       "      <td>6521494.47</td>\n",
       "    </tr>\n",
       "    <tr>\n",
       "      <th>3</th>\n",
       "      <td>Least developed countries</td>\n",
       "      <td>d</td>\n",
       "      <td>941</td>\n",
       "      <td>Development Group</td>\n",
       "      <td>902</td>\n",
       "      <td>195427.79</td>\n",
       "      <td>199180.39</td>\n",
       "      <td>203015.20</td>\n",
       "      <td>206985.64</td>\n",
       "      <td>211133.08</td>\n",
       "      <td>...</td>\n",
       "      <td>856471.44</td>\n",
       "      <td>876867.23</td>\n",
       "      <td>897793.44</td>\n",
       "      <td>919222.96</td>\n",
       "      <td>941131.32</td>\n",
       "      <td>963519.72</td>\n",
       "      <td>986385.40</td>\n",
       "      <td>1009691.25</td>\n",
       "      <td>1033388.87</td>\n",
       "      <td>1057438.16</td>\n",
       "    </tr>\n",
       "    <tr>\n",
       "      <th>4</th>\n",
       "      <td>Less developed regions, excluding least develo...</td>\n",
       "      <td>e</td>\n",
       "      <td>934</td>\n",
       "      <td>Development Group</td>\n",
       "      <td>902</td>\n",
       "      <td>1526184.32</td>\n",
       "      <td>1560850.33</td>\n",
       "      <td>1594126.32</td>\n",
       "      <td>1626835.88</td>\n",
       "      <td>1659653.21</td>\n",
       "      <td>...</td>\n",
       "      <td>4945165.28</td>\n",
       "      <td>5004846.19</td>\n",
       "      <td>5064335.07</td>\n",
       "      <td>5123452.69</td>\n",
       "      <td>5182043.46</td>\n",
       "      <td>5240023.55</td>\n",
       "      <td>5297327.12</td>\n",
       "      <td>5353840.96</td>\n",
       "      <td>5409449.02</td>\n",
       "      <td>5464056.31</td>\n",
       "    </tr>\n",
       "  </tbody>\n",
       "</table>\n",
       "<p>5 rows × 76 columns</p>\n",
       "</div>"
      ],
      "text/plain": [
       "                Region, subregion, country or area * Notes  Country code  \\\n",
       "0                                              WORLD   NaN           900   \n",
       "1                             More developed regions     b           901   \n",
       "2                             Less developed regions     c           902   \n",
       "3                          Least developed countries     d           941   \n",
       "4  Less developed regions, excluding least develo...     e           934   \n",
       "\n",
       "                Type  Parent code        1950        1951        1952  \\\n",
       "0              World            0  2536431.02  2584034.23  2630861.69   \n",
       "1  Development Group         1803   814818.91   824003.51   833720.17   \n",
       "2  Development Group         1803  1721612.11  1760030.72  1797141.52   \n",
       "3  Development Group          902   195427.79   199180.39   203015.20   \n",
       "4  Development Group          902  1526184.32  1560850.33  1594126.32   \n",
       "\n",
       "         1953        1954  ...        2011        2012        2013  \\\n",
       "0  2677609.06  2724846.75  ...  7041194.17  7125827.96  7210582.04   \n",
       "1   843787.54   854060.46  ...  1239557.45  1244114.53  1248453.53   \n",
       "2  1833821.52  1870786.30  ...  5801636.72  5881713.43  5962128.51   \n",
       "3   206985.64   211133.08  ...   856471.44   876867.23   897793.44   \n",
       "4  1626835.88  1659653.21  ...  4945165.28  5004846.19  5064335.07   \n",
       "\n",
       "         2014        2015        2016        2017        2018        2019  \\\n",
       "0  7295290.76  7379796.97  7464021.93  7547858.90  7631091.11  7713468.21   \n",
       "1  1252615.11  1256622.19  1260478.67  1264146.38  1267558.90  1270630.32   \n",
       "2  6042675.65  6123174.78  6203543.27  6283712.52  6363532.21  6442837.89   \n",
       "3   919222.96   941131.32   963519.72   986385.40  1009691.25  1033388.87   \n",
       "4  5123452.69  5182043.46  5240023.55  5297327.12  5353840.96  5409449.02   \n",
       "\n",
       "         2020  \n",
       "0  7794798.73  \n",
       "1  1273304.26  \n",
       "2  6521494.47  \n",
       "3  1057438.16  \n",
       "4  5464056.31  \n",
       "\n",
       "[5 rows x 76 columns]"
      ]
     },
     "execution_count": 7,
     "metadata": {},
     "output_type": "execute_result"
    }
   ],
   "source": [
    "world_pop.head()"
   ]
  },
  {
   "cell_type": "markdown",
   "metadata": {},
   "source": [
    "# 3. Process and Clean Data <a class=\"anchor\" id=\"3\"></a>\n",
    "[Return to top](#top)"
   ]
  },
  {
   "cell_type": "markdown",
   "metadata": {},
   "source": [
    "Since I am using two separate data sources for population and coronavirus data, I have to do some data cleaning to ensure that the two properly match up with one another. Some of the country names differ between the two datasets, and the two are formatted slightly differently. I am also going to standardize both datasets by setting the country as the row index for both of them."
   ]
  },
  {
   "cell_type": "markdown",
   "metadata": {},
   "source": [
    "### Standardize Coronavirus Data <a class=\"anchor\" id=\"3a\"></a>"
   ]
  },
  {
   "cell_type": "markdown",
   "metadata": {},
   "source": [
    "Below, I am summing up the total for each country for each day, and dropping the Latitude and Longitude data, since we don't need it here."
   ]
  },
  {
   "cell_type": "code",
   "execution_count": 8,
   "metadata": {},
   "outputs": [
    {
     "data": {
      "text/html": [
       "<div>\n",
       "<style scoped>\n",
       "    .dataframe tbody tr th:only-of-type {\n",
       "        vertical-align: middle;\n",
       "    }\n",
       "\n",
       "    .dataframe tbody tr th {\n",
       "        vertical-align: top;\n",
       "    }\n",
       "\n",
       "    .dataframe thead th {\n",
       "        text-align: right;\n",
       "    }\n",
       "</style>\n",
       "<table border=\"1\" class=\"dataframe\">\n",
       "  <thead>\n",
       "    <tr style=\"text-align: right;\">\n",
       "      <th></th>\n",
       "      <th>1/22/20</th>\n",
       "      <th>1/23/20</th>\n",
       "      <th>1/24/20</th>\n",
       "      <th>1/25/20</th>\n",
       "      <th>1/26/20</th>\n",
       "      <th>1/27/20</th>\n",
       "      <th>1/28/20</th>\n",
       "      <th>1/29/20</th>\n",
       "      <th>1/30/20</th>\n",
       "      <th>1/31/20</th>\n",
       "      <th>...</th>\n",
       "      <th>3/19/20</th>\n",
       "      <th>3/20/20</th>\n",
       "      <th>3/21/20</th>\n",
       "      <th>3/22/20</th>\n",
       "      <th>3/23/20</th>\n",
       "      <th>3/24/20</th>\n",
       "      <th>3/25/20</th>\n",
       "      <th>3/26/20</th>\n",
       "      <th>3/27/20</th>\n",
       "      <th>3/28/20</th>\n",
       "    </tr>\n",
       "    <tr>\n",
       "      <th>Country/Region</th>\n",
       "      <th></th>\n",
       "      <th></th>\n",
       "      <th></th>\n",
       "      <th></th>\n",
       "      <th></th>\n",
       "      <th></th>\n",
       "      <th></th>\n",
       "      <th></th>\n",
       "      <th></th>\n",
       "      <th></th>\n",
       "      <th></th>\n",
       "      <th></th>\n",
       "      <th></th>\n",
       "      <th></th>\n",
       "      <th></th>\n",
       "      <th></th>\n",
       "      <th></th>\n",
       "      <th></th>\n",
       "      <th></th>\n",
       "      <th></th>\n",
       "      <th></th>\n",
       "    </tr>\n",
       "  </thead>\n",
       "  <tbody>\n",
       "    <tr>\n",
       "      <th>Afghanistan</th>\n",
       "      <td>0</td>\n",
       "      <td>0</td>\n",
       "      <td>0</td>\n",
       "      <td>0</td>\n",
       "      <td>0</td>\n",
       "      <td>0</td>\n",
       "      <td>0</td>\n",
       "      <td>0</td>\n",
       "      <td>0</td>\n",
       "      <td>0</td>\n",
       "      <td>...</td>\n",
       "      <td>22</td>\n",
       "      <td>24</td>\n",
       "      <td>24</td>\n",
       "      <td>40</td>\n",
       "      <td>40</td>\n",
       "      <td>74</td>\n",
       "      <td>84</td>\n",
       "      <td>94</td>\n",
       "      <td>110</td>\n",
       "      <td>110</td>\n",
       "    </tr>\n",
       "    <tr>\n",
       "      <th>Albania</th>\n",
       "      <td>0</td>\n",
       "      <td>0</td>\n",
       "      <td>0</td>\n",
       "      <td>0</td>\n",
       "      <td>0</td>\n",
       "      <td>0</td>\n",
       "      <td>0</td>\n",
       "      <td>0</td>\n",
       "      <td>0</td>\n",
       "      <td>0</td>\n",
       "      <td>...</td>\n",
       "      <td>64</td>\n",
       "      <td>70</td>\n",
       "      <td>76</td>\n",
       "      <td>89</td>\n",
       "      <td>104</td>\n",
       "      <td>123</td>\n",
       "      <td>146</td>\n",
       "      <td>174</td>\n",
       "      <td>186</td>\n",
       "      <td>197</td>\n",
       "    </tr>\n",
       "    <tr>\n",
       "      <th>Algeria</th>\n",
       "      <td>0</td>\n",
       "      <td>0</td>\n",
       "      <td>0</td>\n",
       "      <td>0</td>\n",
       "      <td>0</td>\n",
       "      <td>0</td>\n",
       "      <td>0</td>\n",
       "      <td>0</td>\n",
       "      <td>0</td>\n",
       "      <td>0</td>\n",
       "      <td>...</td>\n",
       "      <td>87</td>\n",
       "      <td>90</td>\n",
       "      <td>139</td>\n",
       "      <td>201</td>\n",
       "      <td>230</td>\n",
       "      <td>264</td>\n",
       "      <td>302</td>\n",
       "      <td>367</td>\n",
       "      <td>409</td>\n",
       "      <td>454</td>\n",
       "    </tr>\n",
       "    <tr>\n",
       "      <th>Andorra</th>\n",
       "      <td>0</td>\n",
       "      <td>0</td>\n",
       "      <td>0</td>\n",
       "      <td>0</td>\n",
       "      <td>0</td>\n",
       "      <td>0</td>\n",
       "      <td>0</td>\n",
       "      <td>0</td>\n",
       "      <td>0</td>\n",
       "      <td>0</td>\n",
       "      <td>...</td>\n",
       "      <td>53</td>\n",
       "      <td>75</td>\n",
       "      <td>88</td>\n",
       "      <td>113</td>\n",
       "      <td>133</td>\n",
       "      <td>164</td>\n",
       "      <td>188</td>\n",
       "      <td>224</td>\n",
       "      <td>267</td>\n",
       "      <td>308</td>\n",
       "    </tr>\n",
       "    <tr>\n",
       "      <th>Angola</th>\n",
       "      <td>0</td>\n",
       "      <td>0</td>\n",
       "      <td>0</td>\n",
       "      <td>0</td>\n",
       "      <td>0</td>\n",
       "      <td>0</td>\n",
       "      <td>0</td>\n",
       "      <td>0</td>\n",
       "      <td>0</td>\n",
       "      <td>0</td>\n",
       "      <td>...</td>\n",
       "      <td>0</td>\n",
       "      <td>1</td>\n",
       "      <td>2</td>\n",
       "      <td>2</td>\n",
       "      <td>3</td>\n",
       "      <td>3</td>\n",
       "      <td>3</td>\n",
       "      <td>4</td>\n",
       "      <td>4</td>\n",
       "      <td>5</td>\n",
       "    </tr>\n",
       "  </tbody>\n",
       "</table>\n",
       "<p>5 rows × 67 columns</p>\n",
       "</div>"
      ],
      "text/plain": [
       "                1/22/20  1/23/20  1/24/20  1/25/20  1/26/20  1/27/20  1/28/20  \\\n",
       "Country/Region                                                                  \n",
       "Afghanistan           0        0        0        0        0        0        0   \n",
       "Albania               0        0        0        0        0        0        0   \n",
       "Algeria               0        0        0        0        0        0        0   \n",
       "Andorra               0        0        0        0        0        0        0   \n",
       "Angola                0        0        0        0        0        0        0   \n",
       "\n",
       "                1/29/20  1/30/20  1/31/20  ...  3/19/20  3/20/20  3/21/20  \\\n",
       "Country/Region                             ...                              \n",
       "Afghanistan           0        0        0  ...       22       24       24   \n",
       "Albania               0        0        0  ...       64       70       76   \n",
       "Algeria               0        0        0  ...       87       90      139   \n",
       "Andorra               0        0        0  ...       53       75       88   \n",
       "Angola                0        0        0  ...        0        1        2   \n",
       "\n",
       "                3/22/20  3/23/20  3/24/20  3/25/20  3/26/20  3/27/20  3/28/20  \n",
       "Country/Region                                                                 \n",
       "Afghanistan          40       40       74       84       94      110      110  \n",
       "Albania              89      104      123      146      174      186      197  \n",
       "Algeria             201      230      264      302      367      409      454  \n",
       "Andorra             113      133      164      188      224      267      308  \n",
       "Angola                2        3        3        3        4        4        5  \n",
       "\n",
       "[5 rows x 67 columns]"
      ]
     },
     "execution_count": 8,
     "metadata": {},
     "output_type": "execute_result"
    }
   ],
   "source": [
    "deaths_clean = deaths.groupby(\"Country/Region\").sum().drop([\"Lat\", \"Long\"], axis=1)\n",
    "confirmed_cases_clean = confirmed_cases.groupby(\"Country/Region\").sum().drop([\"Lat\", \"Long\"], axis=1)\n",
    "confirmed_cases_clean.head()"
   ]
  },
  {
   "cell_type": "markdown",
   "metadata": {},
   "source": [
    "### Standardize World Population Data <a class=\"anchor\" id=\"3b\"></a>"
   ]
  },
  {
   "cell_type": "markdown",
   "metadata": {},
   "source": [
    "Since we are only concerned with 2020 population data, I am dropping all of the other columns in the dataset. I am also setting the country as the row index so the data matches the standard format."
   ]
  },
  {
   "cell_type": "code",
   "execution_count": 9,
   "metadata": {},
   "outputs": [
    {
     "data": {
      "text/html": [
       "<div>\n",
       "<style scoped>\n",
       "    .dataframe tbody tr th:only-of-type {\n",
       "        vertical-align: middle;\n",
       "    }\n",
       "\n",
       "    .dataframe tbody tr th {\n",
       "        vertical-align: top;\n",
       "    }\n",
       "\n",
       "    .dataframe thead th {\n",
       "        text-align: right;\n",
       "    }\n",
       "</style>\n",
       "<table border=\"1\" class=\"dataframe\">\n",
       "  <thead>\n",
       "    <tr style=\"text-align: right;\">\n",
       "      <th></th>\n",
       "      <th>2020 Population</th>\n",
       "    </tr>\n",
       "    <tr>\n",
       "      <th>Region, subregion, country or area *</th>\n",
       "      <th></th>\n",
       "    </tr>\n",
       "  </thead>\n",
       "  <tbody>\n",
       "    <tr>\n",
       "      <th>WORLD</th>\n",
       "      <td>7.794799e+09</td>\n",
       "    </tr>\n",
       "    <tr>\n",
       "      <th>More developed regions</th>\n",
       "      <td>1.273304e+09</td>\n",
       "    </tr>\n",
       "    <tr>\n",
       "      <th>Less developed regions</th>\n",
       "      <td>6.521494e+09</td>\n",
       "    </tr>\n",
       "    <tr>\n",
       "      <th>Least developed countries</th>\n",
       "      <td>1.057438e+09</td>\n",
       "    </tr>\n",
       "    <tr>\n",
       "      <th>Less developed regions, excluding least developed countries</th>\n",
       "      <td>5.464056e+09</td>\n",
       "    </tr>\n",
       "  </tbody>\n",
       "</table>\n",
       "</div>"
      ],
      "text/plain": [
       "                                                    2020 Population\n",
       "Region, subregion, country or area *                               \n",
       "WORLD                                                  7.794799e+09\n",
       "More developed regions                                 1.273304e+09\n",
       "Less developed regions                                 6.521494e+09\n",
       "Least developed countries                              1.057438e+09\n",
       "Less developed regions, excluding least develop...     5.464056e+09"
      ]
     },
     "execution_count": 9,
     "metadata": {},
     "output_type": "execute_result"
    }
   ],
   "source": [
    "world_pop_clean = world_pop.loc[:, [world_pop.columns[0], \"2020\"]].copy()#world_pop[[world_pop.columns[0], \"2020\"]]\n",
    "world_pop_clean[\"2020\"] *= 1000\n",
    "world_pop_clean = world_pop_clean.set_index(\"Region, subregion, country or area *\")\n",
    "world_pop_clean.columns = [\"2020 Population\"]\n",
    "world_pop_clean.head()"
   ]
  },
  {
   "cell_type": "markdown",
   "metadata": {},
   "source": [
    "### Match World Population Data With Coronavirus Data <a class=\"anchor\" id=\"3c\"></a>"
   ]
  },
  {
   "cell_type": "markdown",
   "metadata": {},
   "source": [
    "Some of the country names are different between the World Population data and the Coronavirus data. So I am going to standardize the columns of the Coronavirus data to match the World Population data. First, I will create a dictionary mapping the Coronavirus country names to the World Population country names for the countries that differ in their name. Some of the Coronavirus countries are not in the World Population dataset, so I am going to drop those countries from the coronavirus dataset."
   ]
  },
  {
   "cell_type": "code",
   "execution_count": 10,
   "metadata": {},
   "outputs": [],
   "source": [
    "\n",
    "coronaToPopulation = {\n",
    "    \"Bolivia\" : \"Bolivia (Plurinational State of)\",\n",
    "    \"Brunei\" : \"Brunei Darussalam\",\n",
    "    \"Congo (Brazzaville)\" : None,\n",
    "    \"Congo (Kinshasa)\" : None,\n",
    "    \"Cote d'Ivoire\" : None,\n",
    "    \"Diamond Princess\" : None,\n",
    "    \"Iran\" : \"Iran (Islamic Republic of)\",\n",
    "    \"Korea, South\" : \"Republic of Korea\",\n",
    "    \"Laos\" : None,\n",
    "    \"Moldova\" : \"Republic of Moldova\",\n",
    "    \"Russia\" : \"Russian Federation\",\n",
    "    \"Syria\" : \"Syrian Arab Republic\",\n",
    "    \"Taiwan*\" : \"China, Taiwan Province of China\",\n",
    "    \"Tanzania\" : \"United Republic of Tanzania\",\n",
    "    \"West Bank and Gaza\" : None,\n",
    "    \"US\" : \"United States of America\",\n",
    "    \"Venezuela\" : \"Venezuela (Bolivarian Republic of)\",\n",
    "    \"Vietnam\" : \"Viet Nam\",\n",
    "    \"Kosovo\" : None,\n",
    "    \"Burma\" : None\n",
    "}\n",
    "\n",
    "missingCountries = list(confirmed_cases_clean.index[[c not in world_pop_clean.index for c in confirmed_cases_clean.index]])\n",
    "\n",
    "for m in missingCountries:\n",
    "    if m not in coronaToPopulation.keys():\n",
    "        coronaToPopulation[m] = None"
   ]
  },
  {
   "cell_type": "markdown",
   "metadata": {},
   "source": [
    "Now, I am going to correct the names of country in the Coronavirus datasets:"
   ]
  },
  {
   "cell_type": "code",
   "execution_count": 11,
   "metadata": {},
   "outputs": [],
   "source": [
    "assert np.all(deaths_clean.index == confirmed_cases_clean.index), \"Death data and confirmed cases data have different indices!\"\n",
    "coronaIndex = list(confirmed_cases_clean.index)\n",
    "for k, v in coronaToPopulation.items():\n",
    "    try:\n",
    "        coronaIndex[coronaIndex.index(k)] = v\n",
    "    except:\n",
    "        pass"
   ]
  },
  {
   "cell_type": "markdown",
   "metadata": {},
   "source": [
    "Finally, I am going to set the new country index and drop the rows from the Coronavirus datasets that do not have a corresponding country in the World Population data. I am also going to drop the cases that have no cases of Coronavirus from the Coronavirus dataset. The final cleaned dataset is displayed below."
   ]
  },
  {
   "cell_type": "code",
   "execution_count": 12,
   "metadata": {},
   "outputs": [
    {
     "data": {
      "text/html": [
       "<div>\n",
       "<style scoped>\n",
       "    .dataframe tbody tr th:only-of-type {\n",
       "        vertical-align: middle;\n",
       "    }\n",
       "\n",
       "    .dataframe tbody tr th {\n",
       "        vertical-align: top;\n",
       "    }\n",
       "\n",
       "    .dataframe thead th {\n",
       "        text-align: right;\n",
       "    }\n",
       "</style>\n",
       "<table border=\"1\" class=\"dataframe\">\n",
       "  <thead>\n",
       "    <tr style=\"text-align: right;\">\n",
       "      <th></th>\n",
       "      <th>1/22/20</th>\n",
       "      <th>1/23/20</th>\n",
       "      <th>1/24/20</th>\n",
       "      <th>1/25/20</th>\n",
       "      <th>1/26/20</th>\n",
       "      <th>1/27/20</th>\n",
       "      <th>1/28/20</th>\n",
       "      <th>1/29/20</th>\n",
       "      <th>1/30/20</th>\n",
       "      <th>1/31/20</th>\n",
       "      <th>...</th>\n",
       "      <th>3/19/20</th>\n",
       "      <th>3/20/20</th>\n",
       "      <th>3/21/20</th>\n",
       "      <th>3/22/20</th>\n",
       "      <th>3/23/20</th>\n",
       "      <th>3/24/20</th>\n",
       "      <th>3/25/20</th>\n",
       "      <th>3/26/20</th>\n",
       "      <th>3/27/20</th>\n",
       "      <th>3/28/20</th>\n",
       "    </tr>\n",
       "  </thead>\n",
       "  <tbody>\n",
       "    <tr>\n",
       "      <th>Afghanistan</th>\n",
       "      <td>0</td>\n",
       "      <td>0</td>\n",
       "      <td>0</td>\n",
       "      <td>0</td>\n",
       "      <td>0</td>\n",
       "      <td>0</td>\n",
       "      <td>0</td>\n",
       "      <td>0</td>\n",
       "      <td>0</td>\n",
       "      <td>0</td>\n",
       "      <td>...</td>\n",
       "      <td>22</td>\n",
       "      <td>24</td>\n",
       "      <td>24</td>\n",
       "      <td>40</td>\n",
       "      <td>40</td>\n",
       "      <td>74</td>\n",
       "      <td>84</td>\n",
       "      <td>94</td>\n",
       "      <td>110</td>\n",
       "      <td>110</td>\n",
       "    </tr>\n",
       "    <tr>\n",
       "      <th>Albania</th>\n",
       "      <td>0</td>\n",
       "      <td>0</td>\n",
       "      <td>0</td>\n",
       "      <td>0</td>\n",
       "      <td>0</td>\n",
       "      <td>0</td>\n",
       "      <td>0</td>\n",
       "      <td>0</td>\n",
       "      <td>0</td>\n",
       "      <td>0</td>\n",
       "      <td>...</td>\n",
       "      <td>64</td>\n",
       "      <td>70</td>\n",
       "      <td>76</td>\n",
       "      <td>89</td>\n",
       "      <td>104</td>\n",
       "      <td>123</td>\n",
       "      <td>146</td>\n",
       "      <td>174</td>\n",
       "      <td>186</td>\n",
       "      <td>197</td>\n",
       "    </tr>\n",
       "    <tr>\n",
       "      <th>Algeria</th>\n",
       "      <td>0</td>\n",
       "      <td>0</td>\n",
       "      <td>0</td>\n",
       "      <td>0</td>\n",
       "      <td>0</td>\n",
       "      <td>0</td>\n",
       "      <td>0</td>\n",
       "      <td>0</td>\n",
       "      <td>0</td>\n",
       "      <td>0</td>\n",
       "      <td>...</td>\n",
       "      <td>87</td>\n",
       "      <td>90</td>\n",
       "      <td>139</td>\n",
       "      <td>201</td>\n",
       "      <td>230</td>\n",
       "      <td>264</td>\n",
       "      <td>302</td>\n",
       "      <td>367</td>\n",
       "      <td>409</td>\n",
       "      <td>454</td>\n",
       "    </tr>\n",
       "    <tr>\n",
       "      <th>Andorra</th>\n",
       "      <td>0</td>\n",
       "      <td>0</td>\n",
       "      <td>0</td>\n",
       "      <td>0</td>\n",
       "      <td>0</td>\n",
       "      <td>0</td>\n",
       "      <td>0</td>\n",
       "      <td>0</td>\n",
       "      <td>0</td>\n",
       "      <td>0</td>\n",
       "      <td>...</td>\n",
       "      <td>53</td>\n",
       "      <td>75</td>\n",
       "      <td>88</td>\n",
       "      <td>113</td>\n",
       "      <td>133</td>\n",
       "      <td>164</td>\n",
       "      <td>188</td>\n",
       "      <td>224</td>\n",
       "      <td>267</td>\n",
       "      <td>308</td>\n",
       "    </tr>\n",
       "    <tr>\n",
       "      <th>Angola</th>\n",
       "      <td>0</td>\n",
       "      <td>0</td>\n",
       "      <td>0</td>\n",
       "      <td>0</td>\n",
       "      <td>0</td>\n",
       "      <td>0</td>\n",
       "      <td>0</td>\n",
       "      <td>0</td>\n",
       "      <td>0</td>\n",
       "      <td>0</td>\n",
       "      <td>...</td>\n",
       "      <td>0</td>\n",
       "      <td>1</td>\n",
       "      <td>2</td>\n",
       "      <td>2</td>\n",
       "      <td>3</td>\n",
       "      <td>3</td>\n",
       "      <td>3</td>\n",
       "      <td>4</td>\n",
       "      <td>4</td>\n",
       "      <td>5</td>\n",
       "    </tr>\n",
       "  </tbody>\n",
       "</table>\n",
       "<p>5 rows × 67 columns</p>\n",
       "</div>"
      ],
      "text/plain": [
       "             1/22/20  1/23/20  1/24/20  1/25/20  1/26/20  1/27/20  1/28/20  \\\n",
       "Afghanistan        0        0        0        0        0        0        0   \n",
       "Albania            0        0        0        0        0        0        0   \n",
       "Algeria            0        0        0        0        0        0        0   \n",
       "Andorra            0        0        0        0        0        0        0   \n",
       "Angola             0        0        0        0        0        0        0   \n",
       "\n",
       "             1/29/20  1/30/20  1/31/20  ...  3/19/20  3/20/20  3/21/20  \\\n",
       "Afghanistan        0        0        0  ...       22       24       24   \n",
       "Albania            0        0        0  ...       64       70       76   \n",
       "Algeria            0        0        0  ...       87       90      139   \n",
       "Andorra            0        0        0  ...       53       75       88   \n",
       "Angola             0        0        0  ...        0        1        2   \n",
       "\n",
       "             3/22/20  3/23/20  3/24/20  3/25/20  3/26/20  3/27/20  3/28/20  \n",
       "Afghanistan       40       40       74       84       94      110      110  \n",
       "Albania           89      104      123      146      174      186      197  \n",
       "Algeria          201      230      264      302      367      409      454  \n",
       "Andorra          113      133      164      188      224      267      308  \n",
       "Angola             2        3        3        3        4        4        5  \n",
       "\n",
       "[5 rows x 67 columns]"
      ]
     },
     "execution_count": 12,
     "metadata": {},
     "output_type": "execute_result"
    }
   ],
   "source": [
    "confirmed_cases_clean.index = coronaIndex\n",
    "deaths_clean.index = coronaIndex\n",
    "\n",
    "confirmed_cases_clean = confirmed_cases_clean.loc[pd.isna(confirmed_cases_clean.index) == False, :]\n",
    "deaths_clean = deaths_clean.loc[pd.isna(deaths_clean.index) == False, :]\n",
    "\n",
    "confirmed_cases_clean = confirmed_cases_clean[np.sum(confirmed_cases_clean, axis=1) > 1]\n",
    "deaths_clean = deaths_clean[np.sum(deaths_clean, axis=1) > 1]\n",
    "\n",
    "confirmed_cases_clean.head()"
   ]
  },
  {
   "cell_type": "markdown",
   "metadata": {},
   "source": [
    "Let's run a quick test to make sure all of the Coronavirus countries have corresponding populations now:"
   ]
  },
  {
   "cell_type": "code",
   "execution_count": 13,
   "metadata": {},
   "outputs": [
    {
     "name": "stdout",
     "output_type": "stream",
     "text": [
      "All Coronavirus countries properly match with the World Population data! Safe to proceed.\n"
     ]
    }
   ],
   "source": [
    "assert np.all([c in world_pop_clean.index for c in confirmed_cases_clean.index]), \"A country in confirmed_cases_clean is not in the world_pop_clean! Investigate further.\"\n",
    "assert np.all([c in world_pop_clean.index for c in deaths_clean.index]), \"A country in deaths_clean is not in the world_pop_clean! Investigate further.\"\n",
    "print(\"All Coronavirus countries properly match with the World Population data! Safe to proceed.\")"
   ]
  },
  {
   "cell_type": "markdown",
   "metadata": {},
   "source": [
    "# 4. Prepare Data For Modeling <a class=\"anchor\" id=\"4\"></a>\n",
    "[Return to top](#top)"
   ]
  },
  {
   "cell_type": "markdown",
   "metadata": {},
   "source": [
    "### Designing Data <a class=\"anchor\" id=\"4a\"></a>"
   ]
  },
  {
   "cell_type": "markdown",
   "metadata": {},
   "source": [
    "I am going to model the spread of Coronavirus as a time-series. I will first create a function that turns a country from the tabled data into a set of time-series.\n",
    "\n",
    "An example datapoint is:\n",
    "\n",
    "---\n",
    "\n",
    "|Input Data|Output Data|\n",
    "|--|--|\n",
    "|<table> <tr><th>Day_1</th><th>Day_2</th><th>Day_3</th><th>Day_4</th></tr><tr><td>2 cases</td><td>4 cases</td><td>7 cases</td><td>15 cases</td></tr> </table>| <table> <tr><th>Day_5</th></tr><tr><td>30 cases</td></tr> </table>|\n",
    "\n",
    "---\n",
    "\n",
    "\n",
    "In the above example datapoint, I would attempt to predict the `Day_5` using [`Day_1`, `Day_2`, `Day_3`, `Day_4`] as inputs. The `windowSize` of the above data would be 4.\n"
   ]
  },
  {
   "cell_type": "markdown",
   "metadata": {},
   "source": [
    "First, I need to construct methods to normalize/scale our data. In the preprocessing phase, I am going to divide each datapoint by the total population of that country. This will allow all countries to be represented on the same scale, even if their populations are different. So in this sense, under the hood, I will be predicting total percentage infected in a country."
   ]
  },
  {
   "cell_type": "code",
   "execution_count": 14,
   "metadata": {},
   "outputs": [],
   "source": [
    "def normalize(data, populations, country):\n",
    "    assert country in populations.index, f\"{country} is not in the World Populations dataset!\"\n",
    "    \n",
    "    country_population = populations.loc[country][0]\n",
    "    data = data / country_population\n",
    "    return data\n",
    "\n",
    "def reverseNormalize(data, populations, country):\n",
    "    assert country in populations.index, f\"{country} is not in the World Populations dataset!\"\n",
    "    \n",
    "    country_population = populations.loc[country][0]\n",
    "    data = data * country_population\n",
    "    return data"
   ]
  },
  {
   "cell_type": "code",
   "execution_count": 15,
   "metadata": {},
   "outputs": [],
   "source": [
    "def countryToData(baseTable, country=\"Italy\", threshold=1, windowSize=4, shouldNormalize=True):\n",
    "    assert country in list(baseTable.index), f\"Invalid Country: {country}\"\n",
    "    windowSize += 1\n",
    "    row = baseTable.loc[country]\n",
    "    if not np.any(row >= threshold):\n",
    "        return None\n",
    "    y = np.array(row[np.argmax(row >= threshold):])\n",
    "    if len(y) <= windowSize:\n",
    "        return None\n",
    "    X = []\n",
    "    for i in range(len(y) - windowSize):\n",
    "        window = y[i:i+windowSize]\n",
    "        X.append(window)\n",
    "    if shouldNormalize:\n",
    "        return normalize(np.array(X), world_pop_clean, country)\n",
    "    return np.array(X)"
   ]
  },
  {
   "cell_type": "markdown",
   "metadata": {},
   "source": [
    "`countryToData` will take a country from the Coronavirus dataset, and convert it into data formatted like above. If a `threshold` is specified, `countryToData` will only output data AFTER at least `threshold` number of cases were present. This allows us to filter out many of the all-zero datapoints. If there are not enough values for `country` that satisfy the `threshold` requirement, `countryToData` will return `None`.\n",
    "\n",
    "For example, let's print out a datapoint for total number of cases using data from Italy:"
   ]
  },
  {
   "cell_type": "code",
   "execution_count": 16,
   "metadata": {},
   "outputs": [
    {
     "data": {
      "text/plain": [
       "array([1694, 2036, 2502, 3089, 3858])"
      ]
     },
     "execution_count": 16,
     "metadata": {},
     "output_type": "execute_result"
    }
   ],
   "source": [
    "countryToData(confirmed_cases_clean, \n",
    "              country=\"Italy\", \n",
    "              threshold=1, \n",
    "              windowSize=4, \n",
    "              shouldNormalize=False)[30]"
   ]
  },
  {
   "cell_type": "markdown",
   "metadata": {},
   "source": [
    "In this example from Italy, we would want to predict `3858` total cases using [`1694`, `2036`, `2502`, `3089`] as inputs.\n",
    "\n",
    "Now, let's build a function that generates data from multiple countries so we can train a model."
   ]
  },
  {
   "cell_type": "code",
   "execution_count": 17,
   "metadata": {},
   "outputs": [],
   "source": [
    "def generateData(baseTable, trainCountries=[], valCountries=[\"Italy\"], threshold=1, windowSize=4):\n",
    "    if len(trainCountries) == 0:\n",
    "        trainCountries = list(set(baseTable.index) - set(valCountries))\n",
    "    train = None\n",
    "    val = None\n",
    "    \n",
    "    for country in trainCountries + valCountries:\n",
    "        countryData = countryToData(baseTable, country, threshold=threshold, windowSize=windowSize)\n",
    "        if countryData is None:\n",
    "            continue\n",
    "        if country in trainCountries:\n",
    "            if train is None:\n",
    "                train = countryData\n",
    "            else: \n",
    "                train = np.vstack((train, countryData))\n",
    "        if country in valCountries:\n",
    "            if val is None:\n",
    "                val = countryData\n",
    "            else:\n",
    "                val = np.vstack((val, countryData))\n",
    "    return train, val"
   ]
  },
  {
   "cell_type": "markdown",
   "metadata": {},
   "source": [
    "`generateData` will generate two sets of data: training data and validation data. The function parameters are:\n",
    "\n",
    "- `baseTable`: the table to generate data from. Either `confirmed_cases_clean` or `deaths_clean`.\n",
    "\n",
    "\n",
    "- `trainCountries`: countries to train our model on. If an empty list (`[]`) is passed for this argument, the entire dataset (except for `valCountries`) will be used (e.g. train a model using the entire world's data).\n",
    "\n",
    "\n",
    "- `valCountries`: countries we want to test our model on. If we want to train a model to predict the number of cases in Italy, using data from China, for example, `trainCountries` would be `[\"China\"]` and `valCountries` would be `[\"Italy\"]`\n",
    "\n",
    "\n",
    "- `threshold`: Only take data from countries AFTER the country has reached `threshold` number of cases or deaths. This allows us to filter out the many datapoints that would be entirely zero.\n",
    "\n",
    "\n",
    "- `windowSize`: how many preceding days we are using for datapoint. E.g. if we want to use the last 4 days as a prediction for the 5th day, `windowSize` would be `4`."
   ]
  },
  {
   "cell_type": "markdown",
   "metadata": {},
   "source": [
    "I am also going to define functions to normalize the data. These functions will take the natural log of the data, so we can project the exponentially growing number of cases into a linear space that can be accurately modeled by a regression classifier:"
   ]
  },
  {
   "cell_type": "code",
   "execution_count": 18,
   "metadata": {},
   "outputs": [],
   "source": [
    "def logSafe(data):\n",
    "    return np.log(np.clip(data, 1e-15, 1))\n",
    "\n",
    "def expSafe(data):\n",
    "    return np.exp(data)"
   ]
  },
  {
   "cell_type": "markdown",
   "metadata": {},
   "source": [
    "# 5. Calibrating Model To Predict Number of Cases In The United States <a class=\"anchor\" id=\"5\"></a>\n",
    "[Return to top](#top)"
   ]
  },
  {
   "cell_type": "markdown",
   "metadata": {},
   "source": [
    "### Generating Training/Validation Data <a class=\"anchor\" id=\"5a\"></a>"
   ]
  },
  {
   "cell_type": "markdown",
   "metadata": {},
   "source": [
    "Now that I have the data pipeline configured, let's create our design matrices of training and validation data. I am going to attempt to predict the **total number of cases in the United States using the entire world as training data**. The last row of the `val` data is printed below. Keep in mind, this data has been normalized (divided by the total population of its country), so the `train` and `val` data represent the *fraction* of the total popualtion that is infected."
   ]
  },
  {
   "cell_type": "code",
   "execution_count": 19,
   "metadata": {},
   "outputs": [],
   "source": [
    "countryToPredict = \"United States of America\"\n",
    "\n",
    "train_data_cases, val_data_cases = generateData(confirmed_cases_clean, \n",
    "                          trainCountries=[], \n",
    "                          valCountries=[countryToPredict], \n",
    "                          threshold=1, \n",
    "                          windowSize=4)"
   ]
  },
  {
   "cell_type": "markdown",
   "metadata": {},
   "source": [
    "Now that I have some data to model, let's create a sample model and evaluate its performance and predictions. \n",
    "\n",
    "As an additional preprocessing step, I am going to take the natural log of the data. Since the growth of Coronavirus appears to be exponential, to predict it with a Linear Model, we need to project the data into linear space. By taking the natural log of each datapoint, we can predict the number of infected people (an exponential distribution) with a relatively simple and interpretable Linear Model."
   ]
  },
  {
   "cell_type": "code",
   "execution_count": 20,
   "metadata": {},
   "outputs": [
    {
     "name": "stdout",
     "output_type": "stream",
     "text": [
      "This example model predicted that today, The United States would have 120353 total cases of Coronavirus.\n"
     ]
    }
   ],
   "source": [
    "model = RidgeRegression(inputFunction = logSafe, \n",
    "                        outputFunction = lambda data: reverseNormalize(expSafe(data), \n",
    "                                                                       world_pop_clean, \n",
    "                                                                       countryToPredict))\n",
    "\n",
    "model.train(train_data_cases)\n",
    "todayPred = model.predict(val_data_cases[-1,1:])[0]\n",
    "print(f\"This example model predicted that today, The United States would have {int(todayPred)} total cases of Coronavirus.\")"
   ]
  },
  {
   "cell_type": "markdown",
   "metadata": {},
   "source": [
    "Since I want to minimize the error of predictions for the total number of cases in the United States, we want to pick the `threshold` and `windowSize` that minimize the error of our predictions, and a `lambda` value for our regression to prevent overfitting. I will define the function below to calculate the loss (error) of our model:"
   ]
  },
  {
   "cell_type": "code",
   "execution_count": 21,
   "metadata": {},
   "outputs": [
    {
     "data": {
      "text/plain": [
       "19294.685970131126"
      ]
     },
     "execution_count": 21,
     "metadata": {},
     "output_type": "execute_result"
    }
   ],
   "source": [
    "def loss(model, val_data, country=\"United States of America\", metric=\"mae\", n=3):\n",
    "    prediction = model.predict(val_data[:, :-1])[-n]\n",
    "    truth = val_data[-n:,-1]\n",
    "    truth = reverseNormalize(truth, world_pop_clean, country)\n",
    "    if metric == \"mse\":\n",
    "        return np.mean((truth - prediction)**2)\n",
    "    elif metric == \"mae\":\n",
    "        return np.mean(np.abs(truth - prediction))\n",
    "\n",
    "loss(model, val_data_cases)"
   ]
  },
  {
   "cell_type": "markdown",
   "metadata": {},
   "source": [
    "That is the loss (error) of our current model. MSE error means, on average, our model is +/- the above value for predicting the next day's number of total cases. We can do better than that. Let's build another function that computes the trains a model and computes the loss for a set of parameters, and then find the parameters that minimize that function:\n",
    "\n",
    "Note: Since the earlier data is less predictable, and since I want to maximize the accuacy for the *latest* Coronavirus data to make predictions about the future, I am only going to test our model on the last `n` data observations."
   ]
  },
  {
   "cell_type": "code",
   "execution_count": 22,
   "metadata": {},
   "outputs": [],
   "source": [
    "def scoreParameters(baseTable=confirmed_cases_clean, country=\"United States of America\", \n",
    "                    threshold=1, windowSize=15, lmb=1e-5, metric=\"mae\", n=3):\n",
    "    train_data, val_data = generateData(baseTable, \n",
    "                              trainCountries=[], \n",
    "                              valCountries=[country], \n",
    "                              threshold=threshold, \n",
    "                              windowSize=windowSize)\n",
    "#     print(train_data)\n",
    "    \n",
    "    model = RidgeRegression(inputFunction = logSafe, \n",
    "                            outputFunction = lambda data: reverseNormalize(expSafe(data), \n",
    "                                                                           world_pop_clean, \n",
    "                                                                           country))\n",
    "    model.train(train_data, lmb=lmb)\n",
    "    return loss(model, val_data, country, metric, n)"
   ]
  },
  {
   "cell_type": "markdown",
   "metadata": {},
   "source": [
    "Since I am optimizing 3 hyperparameters (`threshold`, `windowSize`, and `lambda`), I am going to optimize each parameter, one at a time, whilst holding the others constant. First, let's create a function to help us visualize the loss for each hyperparameter value:"
   ]
  },
  {
   "cell_type": "code",
   "execution_count": 23,
   "metadata": {},
   "outputs": [],
   "source": [
    "def visualize(values_tested, losses, param):\n",
    "    plt.plot(values_tested, losses, label=\"Loss\")\n",
    "    plt.xlabel(f\"Values of {param}\")\n",
    "    plt.ylabel(f\"Loss\")\n",
    "    plt.title(f\"Testing Different Values of {param}\")\n",
    "    plt.show()"
   ]
  },
  {
   "cell_type": "markdown",
   "metadata": {},
   "source": [
    "### Threshold Tuning <a class=\"anchor\" id=\"5b\"></a>"
   ]
  },
  {
   "cell_type": "code",
   "execution_count": 24,
   "metadata": {},
   "outputs": [
    {
     "data": {
      "image/png": "[encoded data removed]",
      "text/plain": [
       "<Figure size 648x360 with 1 Axes>"
      ]
     },
     "metadata": {
      "needs_background": "light"
     },
     "output_type": "display_data"
    },
    {
     "name": "stdout",
     "output_type": "stream",
     "text": [
      "The best threshold found was 89.0 with a loss of 16397.810541864023\n"
     ]
    }
   ],
   "source": [
    "thresholds_to_test = list(np.linspace(1, 100, 10))\n",
    "threshold_losses = []\n",
    "for t in thresholds_to_test:\n",
    "    threshold_loss = scoreParameters(threshold=t, lmb=0)\n",
    "    threshold_losses.append(threshold_loss)\n",
    "\n",
    "best_threshold_i = np.argmin(threshold_losses)\n",
    "best_threshold_cases = thresholds_to_test[best_threshold_i]\n",
    "visualize(thresholds_to_test, threshold_losses, \"threshold\")\n",
    "\n",
    "print(f\"The best threshold found was {best_threshold_cases} with a loss of {threshold_losses[best_threshold_i]}\")"
   ]
  },
  {
   "cell_type": "markdown",
   "metadata": {},
   "source": [
    "### Window Size Tuning <a class=\"anchor\" id=\"5c\"></a>"
   ]
  },
  {
   "cell_type": "code",
   "execution_count": 25,
   "metadata": {},
   "outputs": [
    {
     "data": {
      "image/png": "[encoded data removed]",
      "text/plain": [
       "<Figure size 648x360 with 1 Axes>"
      ]
     },
     "metadata": {
      "needs_background": "light"
     },
     "output_type": "display_data"
    },
    {
     "name": "stdout",
     "output_type": "stream",
     "text": [
      "The best windowSize found was 7 with a loss of 17337.90752951684\n"
     ]
    }
   ],
   "source": [
    "windowSizes_to_test = list(range(1,10))\n",
    "windowSize_losses = []\n",
    "for w in windowSizes_to_test:\n",
    "    windowSize_loss = scoreParameters(threshold=best_threshold_cases, windowSize=w, lmb=0)\n",
    "    windowSize_losses.append(windowSize_loss)\n",
    "\n",
    "best_windowSize_i = np.argmin(windowSize_losses)\n",
    "best_windowSize_cases = windowSizes_to_test[best_windowSize_i]\n",
    "visualize(windowSizes_to_test, windowSize_losses, \"windowSize\")\n",
    "\n",
    "print(f\"The best windowSize found was {best_windowSize_cases} with a loss of {windowSize_losses[best_windowSize_i]}\")"
   ]
  },
  {
   "cell_type": "markdown",
   "metadata": {},
   "source": [
    "### Lambda Tuning <a class=\"anchor\" id=\"5d\"></a>"
   ]
  },
  {
   "cell_type": "code",
   "execution_count": 26,
   "metadata": {},
   "outputs": [
    {
     "name": "stdout",
     "output_type": "stream",
     "text": [
      "The best lambda found was 1e-05 with a loss of 17337.90725510361\n"
     ]
    }
   ],
   "source": [
    "lmb_to_test = list(np.geomspace(1e-15, 1e-5, 30))\n",
    "lmb_losses = []\n",
    "for l in lmb_to_test:\n",
    "    lmb_loss = scoreParameters(threshold=best_threshold_cases, windowSize=best_windowSize_cases, lmb=l)\n",
    "    lmb_losses.append(lmb_loss)\n",
    "\n",
    "best_lmb_i = np.argmin(lmb_losses)\n",
    "best_lmb_cases = lmb_to_test[best_lmb_i]\n",
    "\n",
    "print(f\"The best lambda found was {best_lmb_cases} with a loss of {lmb_losses[best_lmb_i]}\")"
   ]
  },
  {
   "cell_type": "markdown",
   "metadata": {},
   "source": [
    "# 6. Calibrating Model To Predict Number of Deaths In The United States <a class=\"anchor\" id=\"6\"></a>\n",
    "[Return to top](#top)"
   ]
  },
  {
   "cell_type": "markdown",
   "metadata": {},
   "source": [
    "### Threshold Tuning <a class=\"anchor\" id=\"6a\"></a>"
   ]
  },
  {
   "cell_type": "code",
   "execution_count": 27,
   "metadata": {},
   "outputs": [
    {
     "data": {
      "image/png": "[encoded data removed]",
      "text/plain": [
       "<Figure size 648x360 with 1 Axes>"
      ]
     },
     "metadata": {
      "needs_background": "light"
     },
     "output_type": "display_data"
    },
    {
     "name": "stdout",
     "output_type": "stream",
     "text": [
      "The best threshold found was 1 with a loss of 365.2388284766\n"
     ]
    }
   ],
   "source": [
    "thresholds_to_test = list(range(1,12))\n",
    "threshold_losses = []\n",
    "for t in thresholds_to_test:\n",
    "    threshold_loss = scoreParameters(deaths_clean, threshold=t, lmb=0)\n",
    "    threshold_losses.append(threshold_loss)\n",
    "\n",
    "best_threshold_i = np.argmin(threshold_losses)\n",
    "best_threshold_deaths = thresholds_to_test[best_threshold_i]\n",
    "visualize(thresholds_to_test, threshold_losses, \"threshold\")\n",
    "\n",
    "print(f\"The best threshold found was {best_threshold_deaths} with a loss of {threshold_losses[best_threshold_i]}\")"
   ]
  },
  {
   "cell_type": "markdown",
   "metadata": {},
   "source": [
    "### Window Size Tuning <a class=\"anchor\" id=\"6b\"></a>"
   ]
  },
  {
   "cell_type": "code",
   "execution_count": 28,
   "metadata": {},
   "outputs": [
    {
     "name": "stdout",
     "output_type": "stream",
     "text": [
      "612.2544993223971\n",
      "522.8695082857195\n",
      "509.7059447876943\n",
      "509.01059855714516\n",
      "519.7872222336265\n",
      "473.65153491420347\n",
      "401.16007777658814\n",
      "396.15158581481563\n",
      "383.7819994054659\n"
     ]
    },
    {
     "data": {
      "image/png": "[encoded data removed]",
      "text/plain": [
       "<Figure size 648x360 with 1 Axes>"
      ]
     },
     "metadata": {
      "needs_background": "light"
     },
     "output_type": "display_data"
    },
    {
     "name": "stdout",
     "output_type": "stream",
     "text": [
      "The best windowSize found was 9 with a loss of 383.7819994054659\n"
     ]
    }
   ],
   "source": [
    "windowSizes_to_test = list(range(1,10))\n",
    "windowSize_losses = []\n",
    "for w in windowSizes_to_test:\n",
    "    windowSize_loss = scoreParameters(deaths_clean, threshold=1, windowSize=w, lmb=0.1)\n",
    "    print(windowSize_loss)\n",
    "    windowSize_losses.append(windowSize_loss)\n",
    "\n",
    "best_windowSize_i = np.argmin(windowSize_losses)\n",
    "best_windowSize_deaths = windowSizes_to_test[best_windowSize_i]\n",
    "visualize(windowSizes_to_test, windowSize_losses, \"windowSize\")\n",
    "\n",
    "print(f\"The best windowSize found was {best_windowSize_deaths} with a loss of {windowSize_losses[best_windowSize_i]}\")"
   ]
  },
  {
   "cell_type": "markdown",
   "metadata": {},
   "source": [
    "### Lambda Tuning <a class=\"anchor\" id=\"6c\"></a>"
   ]
  },
  {
   "cell_type": "code",
   "execution_count": 29,
   "metadata": {},
   "outputs": [
    {
     "name": "stdout",
     "output_type": "stream",
     "text": [
      "The best lambda found was 1.373823795883261e-11 with a loss of 383.5331784525995\n"
     ]
    }
   ],
   "source": [
    "lmb_to_test = list(np.geomspace(1e-15, 1e-5, 30))\n",
    "lmb_losses = []\n",
    "for l in lmb_to_test:\n",
    "    lmb_loss = scoreParameters(deaths_clean, threshold=best_threshold_deaths, windowSize=best_windowSize_deaths, lmb=l)\n",
    "    lmb_losses.append(lmb_loss)\n",
    "\n",
    "best_lmb_i = np.argmin(lmb_losses)\n",
    "best_lmb_deaths = lmb_to_test[best_lmb_i]\n",
    "\n",
    "print(f\"The best lambda found was {best_lmb_deaths} with a loss of {lmb_losses[best_lmb_i]}\")"
   ]
  },
  {
   "cell_type": "markdown",
   "metadata": {},
   "source": [
    "# 7. Predicting Total Number of Cases in The United States <a class=\"anchor\" id=\"7\"></a>\n",
    "[Return to top](#top)"
   ]
  },
  {
   "cell_type": "markdown",
   "metadata": {},
   "source": [
    "At this point, I have generated sufficient data and tuned our model hyperparameters to minimize loss (error). I am now ready to create a final model to predict the number of future cases of the Coronavirus in the United States. Let's build a function to predict multiple days into the future using the latest available data:"
   ]
  },
  {
   "cell_type": "code",
   "execution_count": 30,
   "metadata": {},
   "outputs": [],
   "source": [
    "def predict(model, baseTable=confirmed_cases_clean, windowSize=5, daysToPredict=5, country=\"United States of America\"):\n",
    "    pop = world_pop_clean.loc[country][0]\n",
    "    data = baseTable.loc[country, :][-windowSize:] / pop\n",
    "    predictions = []\n",
    "    while len(predictions) < daysToPredict:\n",
    "        nextData = data[-windowSize:]\n",
    "        nextPred = model.predict(nextData)[0]\n",
    "        predictions.append(nextPred)\n",
    "        data = np.append(data, normalize(nextPred, world_pop_clean, country))\n",
    "    return predictions"
   ]
  },
  {
   "cell_type": "markdown",
   "metadata": {},
   "source": [
    "And let's also define a couple utility functions to help us display our predictions neatly:"
   ]
  },
  {
   "cell_type": "code",
   "execution_count": 31,
   "metadata": {},
   "outputs": [],
   "source": [
    "def timeFormatter(daysInFuture=1):\n",
    "    latestFromData = datetime.strptime(confirmed_cases_clean.columns[-1], \"%m/%d/%y\")\n",
    "    latestFromData = latestFromData.replace(tzinfo=tz.gettz('UTC'))\n",
    "    locTime = latestFromData.astimezone(tz.tzlocal()) + timedelta(days=daysInFuture + 1)\n",
    "    return locTime.strftime(\"%b %d, %Y, %l:%M%p\")\n",
    "\n",
    "def printPredictions(preds, suffix=\"total cases of Coronavirus in The United States.\"):\n",
    "    for i in range(len(preds)):\n",
    "        p = preds[i]\n",
    "        i += 1\n",
    "        s = f\"On {timeFormatter(i)}: I predict {int(p):,} {suffix}\\n\"\n",
    "        print(s)"
   ]
  },
  {
   "cell_type": "markdown",
   "metadata": {},
   "source": [
    "First, I will generate our data using the optimal hyperparameters that we discovered in steps [5](#5) and [6](#6):"
   ]
  },
  {
   "cell_type": "code",
   "execution_count": 32,
   "metadata": {},
   "outputs": [],
   "source": [
    "countryToPredict = \"United States of America\"\n",
    "\n",
    "train_data_cases, val_data_cases = generateData(confirmed_cases_clean, \n",
    "                          trainCountries=[], \n",
    "                          valCountries=[countryToPredict], \n",
    "                          threshold=best_threshold_cases, \n",
    "                          windowSize=best_windowSize_cases)"
   ]
  },
  {
   "cell_type": "markdown",
   "metadata": {},
   "source": [
    "Next, I will construct and train our model to predict the total number of cases:"
   ]
  },
  {
   "cell_type": "code",
   "execution_count": 33,
   "metadata": {},
   "outputs": [],
   "source": [
    "total_cases_model = RidgeRegression(inputFunction = logSafe, \n",
    "                                    outputFunction = lambda data: reverseNormalize(expSafe(data), \n",
    "                                                                                   world_pop_clean, \n",
    "                                                                                   countryToPredict))\n",
    "total_cases_model.train(train_data_cases, lmb=best_lmb_cases)"
   ]
  },
  {
   "cell_type": "markdown",
   "metadata": {},
   "source": [
    "I have now created and trained a model to predict the number of total cases of the Coronavirus in the United States. We can predict the total number of cases over the next five days:"
   ]
  },
  {
   "cell_type": "code",
   "execution_count": 34,
   "metadata": {},
   "outputs": [
    {
     "name": "stdout",
     "output_type": "stream",
     "text": [
      "On Mar 29, 2020,  6:00PM: I predict 143,471 total cases of Coronavirus in The United States.\n",
      "\n",
      "On Mar 30, 2020,  6:00PM: I predict 167,024 total cases of Coronavirus in The United States.\n",
      "\n",
      "On Mar 31, 2020,  6:00PM: I predict 193,068 total cases of Coronavirus in The United States.\n",
      "\n",
      "On Apr 01, 2020,  6:00PM: I predict 221,305 total cases of Coronavirus in The United States.\n",
      "\n",
      "On Apr 02, 2020,  6:00PM: I predict 250,991 total cases of Coronavirus in The United States.\n",
      "\n"
     ]
    }
   ],
   "source": [
    "total_cases_predictions = predict(total_cases_model, confirmed_cases_clean, best_windowSize_cases, daysToPredict=5)\n",
    "\n",
    "printPredictions(total_cases_predictions)"
   ]
  },
  {
   "cell_type": "markdown",
   "metadata": {},
   "source": [
    "# 8. Predicting Total Number of Deaths in The United States <a class=\"anchor\" id=\"8\"></a>\n",
    "[Return to top](#top)"
   ]
  },
  {
   "cell_type": "markdown",
   "metadata": {},
   "source": [
    "I am now going to predict the total number of deaths in the United States from Coronavirus using the model hyperparameters trained in steps [5](#5) and [6](#6)."
   ]
  },
  {
   "cell_type": "code",
   "execution_count": 35,
   "metadata": {},
   "outputs": [],
   "source": [
    "countryToPredict = \"United States of America\"\n",
    "\n",
    "train_data_deaths, val_data_deaths = generateData(deaths_clean, \n",
    "                          trainCountries=[], \n",
    "                          valCountries=[countryToPredict], \n",
    "                          threshold=best_threshold_deaths, \n",
    "                          windowSize=best_windowSize_deaths)"
   ]
  },
  {
   "cell_type": "code",
   "execution_count": 36,
   "metadata": {},
   "outputs": [],
   "source": [
    "total_deaths_model = RidgeRegression(inputFunction = logSafe, \n",
    "                                    outputFunction = lambda data: reverseNormalize(expSafe(data), \n",
    "                                                                                   world_pop_clean, \n",
    "                                                                                   countryToPredict))\n",
    "total_deaths_model.train(train_data_deaths, lmb=best_lmb_deaths)"
   ]
  },
  {
   "cell_type": "code",
   "execution_count": 37,
   "metadata": {},
   "outputs": [
    {
     "name": "stdout",
     "output_type": "stream",
     "text": [
      "On Mar 29, 2020,  6:00PM: I predict 2,453 total deaths from Coronavirus in The United States.\n",
      "\n",
      "On Mar 30, 2020,  6:00PM: I predict 2,952 total deaths from Coronavirus in The United States.\n",
      "\n",
      "On Mar 31, 2020,  6:00PM: I predict 3,511 total deaths from Coronavirus in The United States.\n",
      "\n",
      "On Apr 01, 2020,  6:00PM: I predict 4,151 total deaths from Coronavirus in The United States.\n",
      "\n",
      "On Apr 02, 2020,  6:00PM: I predict 4,904 total deaths from Coronavirus in The United States.\n",
      "\n"
     ]
    }
   ],
   "source": [
    "death_preds = predict(total_deaths_model, deaths_clean, best_windowSize_deaths, daysToPredict=5)\n",
    "\n",
    "printPredictions(death_preds, suffix=\"total deaths from Coronavirus in The United States.\")"
   ]
  },
  {
   "cell_type": "markdown",
   "metadata": {},
   "source": [
    "# 9. Visualizations and Further Analysis <a class=\"anchor\" id=\"9\"></a>\n",
    "[Return to top](#top)"
   ]
  },
  {
   "cell_type": "markdown",
   "metadata": {},
   "source": [
    "Here, I am going to visualize the spread of Coronavirus around the world, and compare the United States' spread with other similar countries.\n",
    "\n",
    "It is ***extremely important*** to recognize the different methods of plotting the growth curves, as they dramatically change the resulting plots. There are two particular methods of plotting that I am interested in:\n",
    "\n",
    "- ***Fraction of Population***: Plotting the *fraction of a country's total population* that has become infected with COVID-19. We do this by dividing the total number of cases by the country's population. This helps us see which countries have been hit the hardest *internally* and are suffering the most damning blows to medical infrastructure.\n",
    "\n",
    "\n",
    "- ***Relative Growth Curves***: Plotting each country's infections *relative to **that** country's peak*--standardizing the peaks across all countries. We do this by dividing each country's total cases by the peak number of cases that country has seen. When plotting relative growth curves, all countries will have the same peak visually. This allows us to see which countries have seen the most extreme growth in COVID-19 cases, and when they saw that extreme growth. This also helps us better understand the delay of the infections and subsequent rapid growth of COVID-19.\n",
    "\n",
    "First, we will define a function to help us plot these curves:"
   ]
  },
  {
   "cell_type": "code",
   "execution_count": 38,
   "metadata": {},
   "outputs": [],
   "source": [
    "warnings.filterwarnings(\"ignore\")\n",
    "\n",
    "def plotSpread(countries=[\"Italy\"], baseTable=confirmed_cases_clean, \n",
    "               title=\"Total Cases of COVID-19 As Fraction of Total Population\", \n",
    "               normalizeCurves=False, maxLabels=3, fig=1):\n",
    "\n",
    "    if not isinstance(countries, list): countries = [countries]\n",
    "    if len(countries) == 0: countries = baseTable.index\n",
    "    maxCountryValues = []\n",
    "    midCountryValues = []\n",
    "        \n",
    "    for i in range(len(countries)):\n",
    "        country = countries[i]\n",
    "        \n",
    "        if country == \"Globally\":\n",
    "            pop = np.sum(world_pop_clean.values, axis=0)\n",
    "            y = (np.sum(baseTable.values, axis=0)) / pop\n",
    "            if normalizeCurves: y /= max(y)\n",
    "        else:\n",
    "            pop = world_pop_clean.loc[country][0]\n",
    "            y = (baseTable.loc[country]) / (pop)\n",
    "            if normalizeCurves: y/= max(y)\n",
    "                \n",
    "        x = list(range(len(y)))\n",
    "        maxCountryValues.append(max(y))\n",
    "        midCountryValues.append(y[35])\n",
    "        plt.plot(x, y)\n",
    "        plt.xlabel(\"Days since 1/22/20\")\n",
    "        plt.ylabel(\"Fraction of Population Infected\")\n",
    "        if normalizeCurves: plt.ylabel(\"Relative Growth Curves\")\n",
    "    \n",
    "    if len(countries) < 10: \n",
    "        plt.legend(labels=countries)\n",
    "    else:\n",
    "        if not normalizeCurves:\n",
    "            topCountries = countries[np.array(maxCountryValues).argsort()[-maxLabels:][::-1]]\n",
    "            labels = [c if c in topCountries else \"_\"+c+\"_\" for c in countries]\n",
    "        else:\n",
    "            topCountries = countries[np.array(midCountryValues).argsort()[-maxLabels:][::-1]]\n",
    "            labels = [c if c in topCountries else \"_\"+c+\"_\" for c in countries]          \n",
    "        plt.legend(labels=labels)\n",
    "        \n",
    "    plt.title(f\"Figure {fig}: {title}\")\n",
    "    plt.show()"
   ]
  },
  {
   "cell_type": "markdown",
   "metadata": {},
   "source": [
    "### Plotting Fraction of Population Infected <a class=\"anchor\" id=\"9a\"></a>"
   ]
  },
  {
   "cell_type": "code",
   "execution_count": 39,
   "metadata": {},
   "outputs": [
    {
     "data": {
      "image/png": "[encoded data removed]",
      "text/plain": [
       "<Figure size 648x360 with 1 Axes>"
      ]
     },
     "metadata": {
      "needs_background": "light"
     },
     "output_type": "display_data"
    }
   ],
   "source": [
    "plotSpread([], fig=1)"
   ]
  },
  {
   "cell_type": "markdown",
   "metadata": {},
   "source": [
    "***Figure 1*** (*above*): The fraction of population infected for every country in the world."
   ]
  },
  {
   "cell_type": "code",
   "execution_count": 40,
   "metadata": {},
   "outputs": [
    {
     "data": {
      "image/png": "[encoded data removed]",
      "text/plain": [
       "<Figure size 648x360 with 1 Axes>"
      ]
     },
     "metadata": {
      "needs_background": "light"
     },
     "output_type": "display_data"
    }
   ],
   "source": [
    "plotSpread([\"Italy\", \"United States of America\", \"China\", \"United Kingdom\", \"France\"], fig=2)"
   ]
  },
  {
   "cell_type": "markdown",
   "metadata": {},
   "source": [
    "***Figure 2*** (*above*): The fraction of population infected in Italy, The United States, China, The United Kingdom, and France.\n",
    "\n",
    "\n",
    "It is clear that, when plotting the growth curves as fractions of total population, Italy is experiencing a far more severe magnitude of COVID-19 cases than the United States."
   ]
  },
  {
   "cell_type": "markdown",
   "metadata": {},
   "source": [
    "### Plotting Relative Growth Curves <a class=\"anchor\" id=\"9b\"></a>"
   ]
  },
  {
   "cell_type": "markdown",
   "metadata": {},
   "source": [
    "This is where things get very interesting. Relative Growth Curves allow us to understand much more about the spread of COVID-19 than merely plotting the fraction of the total population."
   ]
  },
  {
   "cell_type": "code",
   "execution_count": 41,
   "metadata": {},
   "outputs": [
    {
     "data": {
      "image/png": "[encoded data removed]",
      "text/plain": [
       "<Figure size 648x360 with 1 Axes>"
      ]
     },
     "metadata": {
      "needs_background": "light"
     },
     "output_type": "display_data"
    }
   ],
   "source": [
    "plotSpread([], normalizeCurves=True, title=\"Total Cases of COVID-19 As Relative Growth Curves (same peak)\", \n",
    "           maxLabels=5, fig=3)"
   ]
  },
  {
   "cell_type": "markdown",
   "metadata": {},
   "source": [
    "***Figure 3*** (*above*): The relative growth curve for every country in the world. Although this plot may seem chaotic, it sheds very important light on the global penetration of COVID-19.\n",
    "\n",
    "From this graph, we can clearly see that **very few countries have successfully dampened the growth of COVID-19**. In particular, China, Republic of Korea (South Korea), and Nepal have dampened the growth of COVID-19 substantially. Nearly every other country has experienced untamed exponentially rapid growth of COVID-19 after day 50."
   ]
  },
  {
   "cell_type": "code",
   "execution_count": 42,
   "metadata": {},
   "outputs": [
    {
     "data": {
      "image/png": "[encoded data removed]",
      "text/plain": [
       "<Figure size 648x360 with 1 Axes>"
      ]
     },
     "metadata": {
      "needs_background": "light"
     },
     "output_type": "display_data"
    }
   ],
   "source": [
    "plotSpread([\"Italy\", \"United States of America\", \"China\", \"United Kingdom\", \"France\", \"Russian Federation\"], \n",
    "           normalizeCurves=True, title=\"Total Cases of COVID-19 As Relative Growth Curves (same peak)\", fig=4)"
   ]
  },
  {
   "cell_type": "markdown",
   "metadata": {},
   "source": [
    "***Figure 4*** (*above*): The relative growth rates of Italy, The United States, China, The United Kingdom, and France.\n",
    "\n",
    "Clearly, China experienced the first major wave of COVID-19. Subsequently, China's growth curve has nearly leveled out. Let's more closely examine the countries in that list other than China."
   ]
  },
  {
   "cell_type": "code",
   "execution_count": 43,
   "metadata": {},
   "outputs": [
    {
     "data": {
      "image/png": "[encoded data removed]",
      "text/plain": [
       "<Figure size 648x360 with 1 Axes>"
      ]
     },
     "metadata": {
      "needs_background": "light"
     },
     "output_type": "display_data"
    }
   ],
   "source": [
    "plotSpread([\"Italy\", \"United States of America\", \"United Kingdom\", \"France\", \"Russian Federation\"], \n",
    "           normalizeCurves=True, title=\"Total Cases of COVID-19 As Relative Growth Curves (same peak)\", fig=5)"
   ]
  },
  {
   "cell_type": "markdown",
   "metadata": {},
   "source": [
    "***Figure 5*** (*above*): The relative growth rates of Italy, The United States, The United Kingdom, and France.\n",
    "\n",
    "Although these countries all have seemingly similar relative growth curves, when examined more closely, it is alarming how quickly the United States has overtaken the rest since day 55."
   ]
  }
 ],
 "metadata": {
  "kernelspec": {
   "display_name": "Python 3",
   "language": "python",
   "name": "python3"
  },
  "language_info": {
   "codemirror_mode": {
    "name": "ipython",
    "version": 3
   },
   "file_extension": ".py",
   "mimetype": "text/x-python",
   "name": "python",
   "nbconvert_exporter": "python",
   "pygments_lexer": "ipython3",
   "version": "3.7.7"
  }
 },
 "nbformat": 4,
 "nbformat_minor": 4
}
